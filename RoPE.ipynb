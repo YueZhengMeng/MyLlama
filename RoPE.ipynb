{
 "cells": [
  {
   "cell_type": "markdown",
   "source": [
    "## 复平面\n",
    "$$\n",
    "\\begin{split}\n",
    "e^{a+ib}=e^ae^{ib}=e^a\\left(\\cos b+i\\sin b\\right) \\\\\n",
    "\\end{split}\n",
    "$$\n",
    "## cis函数\n",
    "$$\n",
    "e^{ix} = \\cos x + i\\sin x\n",
    "$$\n",
    "- https://en.wikipedia.org/wiki/Cis_(mathematics)\n",
    "- sin 视为复数的虚部,cos 视为复数的实部\n",
    "$$\n",
    "\\begin{split}\n",
    "e^{i\\pi}+1=\\left(\\cos\\pi + i\\sin\\pi\\right) + 1 = -1 + 1=0 \\\\\n",
    "\\end{split}\n",
    "$$\n",
    "$e^{i\\theta}$ 就是一个单位圆"
   ],
   "metadata": {
    "collapsed": false
   },
   "id": "929f0df102521894"
  },
  {
   "cell_type": "markdown",
   "source": [
    "## 旋转矩阵(rotation matrix)\n",
    "$$\n",
    "R(\\theta)=\\begin{pmatrix}\n",
    "\\cos\\theta & -\\sin\\theta\\\\\n",
    "\\sin\\theta & \\cos\\theta\n",
    "\\end{pmatrix}\n",
    "$$\n",
    "\n",
    "- $\\|R(\\theta)\\|=1$,行列式为1\n",
    "- 乘以一个向量,\n",
    "    - 不改变其长度(norm)\n",
    "    - 只改变其角度(只进行旋转)\n",
    "    - 为逆时针旋转\n",
    "    - 旋转角度 $\\theta$ 为其与 $x$ 轴正方向的夹角"
   ],
   "metadata": {
    "collapsed": false
   },
   "id": "4a00041db7e9459e"
  },
  {
   "cell_type": "markdown",
   "source": [
    "## 旋转矩阵的性质\n",
    "$$\n",
    "\\begin{split}\n",
    "R(\\alpha)\\cdot R(\\beta)&=\\begin{pmatrix}\n",
    "\\cos\\alpha & -\\sin\\alpha\\\\\n",
    "\\sin\\alpha & \\cos\\alpha\n",
    "\\end{pmatrix}\\cdot \\begin{pmatrix}\n",
    "\\cos\\beta & -\\sin\\beta\\\\\n",
    "\\sin\\beta & \\cos\\beta\n",
    "\\end{pmatrix}\\\\\n",
    "&=\\begin{pmatrix}\n",
    "\\cos\\alpha\\cos\\beta-\\sin\\alpha\\sin\\beta & -(\\cos\\alpha\\sin\\beta+\\sin\\alpha\\cos\\beta)\\\\ \n",
    "\\cos\\alpha\\sin\\beta+\\sin\\alpha\\cos\\beta& \\cos\\alpha\\cos\\beta-\\sin\\alpha\\sin\\beta\n",
    "\\end{pmatrix}\\\\\n",
    "&=\\begin{pmatrix}\n",
    "\\cos(\\alpha+\\beta) & -\\sin(\\alpha+\\beta)\\\\\n",
    "\\sin(\\alpha+\\beta) & \\cos(\\alpha+\\beta)\n",
    "\\end{pmatrix}\\\\\n",
    "&=R(\\alpha+\\beta)\\\\\n",
    "R^T(\\alpha)\\cdot R(\\beta)&=\\begin{pmatrix}\n",
    "\\cos\\alpha & \\sin\\alpha\\\\\n",
    "-\\sin\\alpha & \\cos\\alpha\n",
    "\\end{pmatrix}\\begin{pmatrix}\n",
    "\\cos\\beta & -\\sin\\beta\\\\\n",
    "\\sin\\beta & \\cos\\beta\n",
    "\\end{pmatrix}\\\\\n",
    "&=R(-\\alpha)R(\\beta)\\\\\n",
    "&=R(\\beta-\\alpha)\n",
    "\\end{split}\n",
    "$$"
   ],
   "metadata": {
    "collapsed": false
   },
   "id": "55b706eedd1a9f97"
  },
  {
   "cell_type": "markdown",
   "source": [
    "## 旋转位置编码函数$f$\n",
    "具体推导得到函数$f$的过程见[论文原文](https://arxiv.org/pdf/2104.09864.pdf),也可以参考[作者博客](https://zhuanlan.zhihu.com/p/359502624)\n",
    "这里直接给出结论:\n",
    "以Q或K中一个词向量($q$或$k$), 以及其位置下标$m$或$n$为输入, 输出新的词向量($\\widetilde{q} 或 \\widetilde{k} $)\n",
    "$$\n",
    "\\begin{split}\n",
    "f(q,m)&=qe^{im\\theta}\\\\\n",
    "\\end{split}\n",
    "$$\n",
    "对于二维词向量$q = (q_0, q_1)$, 可以用旋转矩阵$R_m$表示为:\n",
    "$$\n",
    "\\begin{split}\n",
    "f(q,m)&=\\begin{pmatrix}\n",
    "\\cos m\\theta & -\\sin m\\theta\\\\\n",
    "\\sin m\\theta & \\cos m\\theta\n",
    "\\end{pmatrix}\\begin{pmatrix}\n",
    "q_0\\\\\n",
    "q_1\n",
    "\\end{pmatrix}\\\\\n",
    "&=R_mq\n",
    "\\end{split}\n",
    "$$\n",
    "新的词向量具有以下性质:$\\widetilde{q} \\cdot \\widetilde{k} $的结果只与 $q$ 和 $k$ 以及二者的相对位置$m-n$有关\n",
    "$$\n",
    "\\begin{split}\n",
    "f(q,m)^Tf(k,n)&=(R_mq)^T(R_nk)\\\\\n",
    "&=q^T(R^T_mR_n)k\\\\\n",
    "&=q^TR_{n-m}k\n",
    "\\end{split}\n",
    "$$"
   ],
   "metadata": {
    "collapsed": false
   },
   "id": "9c364fd4e24558bc"
  },
  {
   "cell_type": "markdown",
   "source": [
    "## 多维词向量的旋转位置编码\n",
    "对于$d$维词向量$q$,($d$必须为偶数),可以视作多个二维词向量,用$d/2$个旋转矩阵处理:\n",
    "$$\n",
    "\\begin{equation}\n",
    "\\scriptsize{\\underbrace{\\begin{pmatrix} \\cos m\\theta_0 & -\\sin m\\theta_0 & 0 & 0 & \\cdots & 0 & 0 \\\\\n",
    "\\sin m\\theta_0 & \\cos m\\theta_0 & 0 & 0 & \\cdots & 0 & 0 \\\\\n",
    "0 & 0 & \\cos m\\theta_1 & -\\sin m\\theta_1 & \\cdots & 0 & 0 \\\\\n",
    "0 & 0 & \\sin m\\theta_1 & \\cos m\\theta_1 & \\cdots & 0 & 0 \\\\\n",
    "\\vdots & \\vdots & \\vdots & \\vdots & \\ddots & \\vdots & \\vdots \\\\\n",
    "0 & 0 & 0 & 0 & \\cdots & \\cos m\\theta_{d/2-1} & -\\sin m\\theta_{d/2-1} \\\\\n",
    "0 & 0 & 0 & 0 & \\cdots & \\sin m\\theta_{d/2-1} & \\cos m\\theta_{d/2-1} \\\\\n",
    "\\end{pmatrix}}_{\\boldsymbol{W}_m}\n",
    "\\begin{pmatrix}q_0 \\\\\n",
    "q_1 \\\\\n",
    "q_2 \\\\\n",
    "q_3 \\\\\n",
    "\\vdots \\\\\n",
    "q_{d-2} \\\\\n",
    "q_{d-1} \\\\\n",
    "\\end{pmatrix}}\n",
    "\\end{equation}\n",
    "$$"
   ],
   "metadata": {
    "collapsed": false
   },
   "id": "689e5aa2996bee5d"
  },
  {
   "cell_type": "markdown",
   "source": [
    "由于$W_m$的稀疏性,直接用矩阵乘法来实现会很浪费算力,推荐通过下述方式来实现RoPE:\n",
    "$$\n",
    "\\begin{equation}\n",
    "\\begin{pmatrix}q_0 \\\\ \n",
    "q_1 \\\\ \n",
    "q_2 \\\\ \n",
    "q_3 \\\\ \n",
    "\\vdots \\\\ \n",
    "q_{d-2} \\\\ \n",
    "q_{d-1}  \n",
    "\\end{pmatrix}\n",
    "\\otimes\n",
    "\\begin{pmatrix}\n",
    "\\cos m\\theta_0 \\\\ \n",
    "\\cos m\\theta_0 \\\\ \n",
    "\\cos m\\theta_1 \\\\ \n",
    "\\cos m\\theta_1 \\\\ \n",
    "\\vdots \\\\ \n",
    "\\cos m\\theta_{d/2-1} \\\\ \n",
    "\\cos m\\theta_{d/2-1} \n",
    "\\end{pmatrix} +\n",
    "\\begin{pmatrix}-q_1 \\\\ \n",
    "q_0 \\\\ \n",
    "-q_3 \\\\ \n",
    "q_2 \\\\ \n",
    "\\vdots \\\\ \n",
    "-q_{d-1} \\\\ \n",
    "q_{d-2}  \n",
    "\\end{pmatrix}\n",
    "\\otimes\n",
    "\\begin{pmatrix}\n",
    "\\sin m\\theta_0 \\\\ \n",
    "\\sin m\\theta_0 \\\\ \n",
    "\\sin m\\theta_1 \\\\ \n",
    "\\sin m\\theta_1 \\\\ \n",
    "\\vdots \\\\ \n",
    "\\sin m\\theta_{d/2-1} \\\\ \n",
    "\\sin m\\theta_{d/2-1} \n",
    "\\end{pmatrix}\n",
    "\\end{equation}\n",
    "$$\n",
    "其中$\\otimes$是逐位对应相乘,即计算框架中的$*$运算。"
   ],
   "metadata": {
    "collapsed": false
   },
   "id": "da977b8403cbd6d0"
  },
  {
   "cell_type": "markdown",
   "source": [
    "## 复数乘法\n",
    "$$\n",
    "\\begin{equation}\n",
    "(a+bi)(c+di)&=(ac-bd)+(ad+bc)i \\\\\n",
    "(q_0 + q_1i) * (\\cos m\\theta_0 + \\sin m\\theta_0i) &= ((q_0 \\cos m\\theta_0 - q_1 \\sin m\\theta_0) + (q_1 \\cos m\\theta_0 + q_0 \\sin m\\theta_0)i) \\\\\n",
    "\\end{equation}\n",
    "$$\n",
    "实部对应上节公式第0行,虚部对应上节公式第1行"
   ],
   "metadata": {
    "collapsed": false
   },
   "id": "14fc458d3f837742"
  },
  {
   "cell_type": "markdown",
   "source": [
    "## Meta官方版llama3源码中的RoPE实现\n",
    "完整代码[点击这里](https://github.com/meta-llama/llama3/blob/main/llama/model.py)\n",
    "核心计算基于极坐标和复数乘法实现"
   ],
   "metadata": {
    "collapsed": false
   },
   "id": "9ebc5d13d6278b52"
  },
  {
   "cell_type": "code",
   "outputs": [
    {
     "name": "stdout",
     "output_type": "stream",
     "text": [
      "tensor([1.0000, 0.0464, 0.0022])\n",
      "tensor([1.0000, 0.0464, 0.0022])\n"
     ]
    },
    {
     "data": {
      "text/plain": "tensor([[ 1.0000+0.0000j,  1.0000+0.0000j,  1.0000+0.0000j],\n        [ 0.5403+0.8415j,  0.9989+0.0464j,  1.0000+0.0022j],\n        [-0.4161+0.9093j,  0.9957+0.0927j,  1.0000+0.0043j],\n        [-0.9900+0.1411j,  0.9903+0.1388j,  1.0000+0.0065j],\n        [-0.6536-0.7568j,  0.9828+0.1846j,  1.0000+0.0086j],\n        [ 0.2837-0.9589j,  0.9732+0.2300j,  0.9999+0.0108j],\n        [ 0.9602-0.2794j,  0.9615+0.2749j,  0.9999+0.0129j],\n        [ 0.7539+0.6570j,  0.9477+0.3192j,  0.9999+0.0151j],\n        [-0.1455+0.9894j,  0.9318+0.3629j,  0.9999+0.0172j],\n        [-0.9111+0.4121j,  0.9140+0.4057j,  0.9998+0.0194j]])"
     },
     "execution_count": 31,
     "metadata": {},
     "output_type": "execute_result"
    }
   ],
   "source": [
    "from typing import Tuple\n",
    "import torch\n",
    "\n",
    "\n",
    "def precompute_freqs_cis(dim: int, end: int, theta: float = 10000.0):\n",
    "    # i是词向量中每个维度的位置下标\n",
    "    # 计算公式中的 1/(10000^(2i/dim)),即 theta\n",
    "    # 得到一个(dim/2,)维的向量\n",
    "    freqs = 1.0 / (theta ** (torch.arange(0, dim, 2)[: (dim // 2)].float() / dim))\n",
    "    print(freqs)\n",
    "    # 初始化一个tensor [0, 1, 2, 3, ...],(end,)维\n",
    "    t = torch.arange(end, device=freqs.device, dtype=torch.float32)\n",
    "    # (end,) X (dim/2,) -> (end, dim/2)\n",
    "    # 新的freqs第0行是freqs*0,第1行是freqs*1,第2行是freqs*2,...\n",
    "    # freqs即公式中的 m*theta\n",
    "    freqs = torch.outer(t, freqs)\n",
    "    print(freqs[1])\n",
    "    # 通过复平面极坐标计算sin和cos\n",
    "    # 通过polar函数,将长度为1的向量逆时针旋转freqs度\n",
    "    # freqs_cis的shape是(end, dim/2)\n",
    "    # 每个元素是一个复数,实部是cos,虚部是sin\n",
    "    freqs_cis = torch.polar(torch.ones_like(freqs), freqs)  # complex64\n",
    "    return freqs_cis\n",
    "\n",
    "\n",
    "def reshape_for_broadcast(freqs_cis: torch.Tensor, x: torch.Tensor):\n",
    "    # ndim为x的维度数 ,此时应该为4\n",
    "    ndim = x.ndim\n",
    "    assert 0 <= 1 < ndim\n",
    "    assert freqs_cis.shape == (x.shape[1], x.shape[-1])\n",
    "    shape = [d if i == 1 or i == ndim - 1 else 1 for i, d in enumerate(x.shape)]\n",
    "    # (1,x.shape[1],1,x.shape[-1])\n",
    "    return freqs_cis.view(*shape)\n",
    "\n",
    "\n",
    "def apply_rotary_emb(\n",
    "    xq: torch.Tensor,\n",
    "    xk: torch.Tensor,\n",
    "    freqs_cis: torch.Tensor,\n",
    ") -> Tuple[torch.Tensor, torch.Tensor]:\n",
    "    # xq.shape = [bsz, seqlen, self.n_local_heads, self.head_dim]\n",
    "    # torch.view_as_complex用于将二维向量转换为复数域 torch.view_as_complex即([q0,q1]) -> (q0 + q1 j)\n",
    "    # 所以经过view_as_complex变换后xq_.shape = [bsz, seqlen, self.n_local_heads, self.head_dim//2]\n",
    "    xq_ = torch.view_as_complex(xq.float().reshape(*xq.shape[:-1], -1, 2))\n",
    "    xk_ = torch.view_as_complex(xk.float().reshape(*xk.shape[:-1], -1, 2))\n",
    "    # freqs_cis.shape = (1,x.shape[1],1,x.shape[-1])\n",
    "    freqs_cis = reshape_for_broadcast(freqs_cis, xq_)\n",
    "    # xq_与freqs_cis广播哈达玛积, 两个复数的乘法实现\n",
    "    # (q0 + q1 j) * (cos + sin j) = ((q0 cos - q1 sin) + (q1 cos + q0 sin)j)\n",
    "    # [bsz, seqlen, self.n_local_heads, self.head_dim//2] * [1,seqlen,1,self.head_dim//2]\n",
    "    # torch.view_as_real用于将复数再转换回实数向量, 再经过flatten展平第4个维度 \n",
    "    # [bsz, seqlen, self.n_local_heads, self.head_dim//2] -> [bsz, seqlen, self.n_local_heads, self.head_dim//2,2] ->[bsz, seqlen, self.n_local_heads, self.head_dim]\n",
    "    xq_out = torch.view_as_real(xq_ * freqs_cis).flatten(3)\n",
    "    xk_out = torch.view_as_real(xk_ * freqs_cis).flatten(3)\n",
    "    return xq_out.type_as(xq), xk_out.type_as(xk)\n",
    "\n",
    "precompute_freqs_cis(6,10)"
   ],
   "metadata": {
    "collapsed": false,
    "ExecuteTime": {
     "end_time": "2024-05-12T05:05:55.272408500Z",
     "start_time": "2024-05-12T05:05:55.245646900Z"
    }
   },
   "id": "b6281305d9095082",
   "execution_count": 31
  },
  {
   "cell_type": "markdown",
   "source": [
    "## Hugging Face版llama3源码中的RoPE实现\n",
    "完整代码[点击这里](https://github.com/huggingface/transformers/blob/main/src/transformers/models/llama/modeling_llama.py)\n",
    "其对原始计算公式做了一些整理和改动\n",
    "因为线性层是无序的,不依赖维度顺序信息,并不一定要求按照维度顺序一正一负两两组合对词向量进行取负数\n",
    "也可以隔$d/2-1$个维度组一对\n",
    "用矩阵表示为:\n",
    "$$\n",
    "\\begin{equation}\n",
    "\\begin{pmatrix} \n",
    "\\cos m\\theta_0 & 0 & 0 & \\cdots & 0 & -\\sin m\\theta_0 & 0 & 0 & \\cdots & 0 \\\\\n",
    "0 & \\cos m\\theta_1 & 0 & \\cdots & 0 & 0 & -\\sin m\\theta_1 & 0 & \\cdots & 0 \\\\\n",
    "0 & 0 & \\cos m\\theta_2 & \\cdots & 0 & 0 & 0 & -\\sin m\\theta_2 & \\cdots & 0 \\\\\n",
    "\\vdots & \\cdots & \\cdots & \\cdots & \\cdots & \\cdots & \\cdots & \\cdots & \\cdots & \\vdots \\\\\n",
    "0 & 0 & 0 & \\cdots & \\cos m\\theta_{d/2-1} & 0 & 0 & 0 & \\cdots & -\\sin m\\theta_{d/2-1}  \\\\\n",
    "\\sin m\\theta_0 & 0 & 0 & \\cdots & 0 & \\cos m\\theta_0 & 0 & 0 & \\cdots & 0 \\\\\n",
    "0 & \\sin m\\theta_1 & 0 & \\cdots & 0 & 0 & \\cos m\\theta_1 & 0 & \\cdots & 0 \\\\\n",
    "0 & 0 & \\sin m\\theta_2 & \\cdots & 0 & 0 & 0 & \\cos m\\theta_2 & \\cdots & 0 \\\\\n",
    "\\vdots & \\cdots & \\cdots & \\cdots & \\cdots & \\cdots & \\cdots & \\cdots & \\cdots & \\vdots \\\\\n",
    "0 & 0 & 0 & \\cdots & \\sin m\\theta_{d/2-1} & 0 & 0 & 0 & \\cdots & \\cos m\\theta_{d/2-1}  \\\\\n",
    "\\end{pmatrix}\n",
    "\\begin{pmatrix}q_0 \\\\ \n",
    "q_1 \\\\ \n",
    "q_2 \\\\\n",
    "\\vdots \\\\ \n",
    "q_{d/2-1} \\\\ \n",
    "q_{d/2} \\\\ \n",
    "q_{d/2+1} \\\\\n",
    "q_{d/2+2} \\\\\n",
    "\\vdots \\\\\n",
    "q_{d-1} \\\\ \n",
    "\\end{pmatrix}\n",
    "\\end{equation}\n",
    "$$"
   ],
   "metadata": {
    "collapsed": false
   },
   "id": "722ea07c643f33de"
  },
  {
   "cell_type": "markdown",
   "source": [
    "代码实现为:\n",
    "$$\n",
    "\\begin{equation}\n",
    "\\begin{pmatrix}q_0 \\\\ \n",
    "q_1 \\\\ \n",
    "\\vdots \\\\ \n",
    "q_{d/2-1} \\\\ \n",
    "q_{d/2} \\\\ \n",
    "q_{d/2+1} \\\\\n",
    "\\vdots \\\\\n",
    "q_{d-1} \\\\ \n",
    "\\end{pmatrix}\n",
    "\\otimes\n",
    "\\begin{pmatrix}\n",
    "\\cos m\\theta_0 \\\\ \n",
    "\\cos m\\theta_1 \\\\ \n",
    "\\vdots \\\\ \n",
    "\\cos m\\theta_{d/2-1} \\\\ \n",
    "\\cos m\\theta_0 \\\\ \n",
    "\\cos m\\theta_1 \\\\ \n",
    "\\vdots \\\\ \n",
    "\\cos m\\theta_{d/2-1} \\\\ \n",
    "\\end{pmatrix} +\n",
    "\\begin{pmatrix} \n",
    "-q_{d/2} \\\\ \n",
    "-q_{d/2+1} \\\\\n",
    "\\vdots \\\\\n",
    "-q_{d-1} \\\\ \n",
    "q_0 \\\\ \n",
    "q_1 \\\\ \n",
    "\\vdots \\\\ \n",
    "q_{d/2-1} \\\\ \n",
    "\\end{pmatrix}\n",
    "\\otimes\n",
    "\\begin{pmatrix}\n",
    "\\sin m\\theta_0 \\\\ \n",
    "\\sin m\\theta_1 \\\\ \n",
    "\\vdots \\\\ \n",
    "\\sin m\\theta_{d/2-1} \\\\ \n",
    "\\sin m\\theta_0 \\\\ \n",
    "\\sin m\\theta_1 \\\\ \n",
    "\\vdots \\\\ \n",
    "\\sin m\\theta_{d/2-1} \\\\ \n",
    "\\end{pmatrix}\n",
    "\\end{equation}\n",
    "$$\n",
    "其中$\\otimes$是逐位对应相乘,即计算框架中的$*$运算。"
   ],
   "metadata": {
    "collapsed": false
   },
   "id": "be32f225605e765b"
  },
  {
   "cell_type": "markdown",
   "source": [
    "ChatGLM-6B、Baichuan2-7B、Google PaLM都采用了Hugging Face版RoPE实现思路"
   ],
   "metadata": {
    "collapsed": false
   },
   "id": "8fa3c16ed8297b78"
  },
  {
   "cell_type": "code",
   "outputs": [],
   "source": [
    "import torch\n",
    "from torch import nn\n",
    "\n",
    "class LlamaRotaryEmbedding(nn.Module):\n",
    "    def __init__(self, dim, max_position_embeddings=2048, base=10000, device=None):\n",
    "        super().__init__()\n",
    "        # 这里的dim是head_dim,单个注意力头的词向量维度\n",
    "        # head_dim = hidden_size // num_attention_heads\n",
    "        self.dim = dim\n",
    "        self.max_position_embeddings = max_position_embeddings\n",
    "        self.base = base\n",
    "        # i是词向量中每个维度的位置下标\n",
    "        # 计算公式中的 1/(10000^(2i/dim)),即 theta\n",
    "        # 得到一个(dim/2,)维的向量\n",
    "        inv_freq = 1.0 / (self.base ** (torch.arange(0, self.dim, 2).float().to(device) / self.dim))\n",
    "        # 如果一个参数不参与梯度下降,但又希望保存model的时候将其保存下来\n",
    "        # 这个时候就可以用register_buffer\n",
    "        self.register_buffer(\"inv_freq\", inv_freq, persistent=False)\n",
    "\n",
    "        # Build here to make `torch.jit.trace` work.\n",
    "        self._set_cos_sin_cache(\n",
    "            seq_len=max_position_embeddings, device=self.inv_freq.device, dtype=torch.get_default_dtype()\n",
    "        )\n",
    "\n",
    "    def _set_cos_sin_cache(self, seq_len, device, dtype):\n",
    "        self.max_seq_len_cached = seq_len\n",
    "        # 初始化一个tensor [0, 1, 2, 3, ...],(max_seq_len_cached,)维\n",
    "        # 如果使用线性放缩(LinearScaling)实现对llama的长度扩展\n",
    "        # 在这里用t除以放缩因子scaling_factor\n",
    "        # 比如使llama的上下文长度从2048扩展到4096,t = t / 2\n",
    "        t = torch.arange(self.max_seq_len_cached, device=device, dtype=self.inv_freq.dtype)\n",
    "        # (max_seq_len_cached,) X (dim/2,) -> (max_seq_len_cached, dim/2)\n",
    "        # freqs第0行是inv_freq*0,第1行是inv_freq*1,第2行是inv_freq*2,...\n",
    "        # freqs即公式中的 m*theta\n",
    "        freqs = torch.outer(t, self.inv_freq)\n",
    "        # Different from paper, but it uses a different permutation in order to obtain the same calculation\n",
    "        # (max_len, dim/2) -> (max_len, dim), 相当于把freqs的每一行复制一遍\n",
    "        # freqs的每一行是: m * [theta_0, theta_1, ..., theta_(dim/2-1), theta_0, theta_1, ..., theta_(dim/2-1)]\n",
    "        emb = torch.cat((freqs, freqs), dim=-1)\n",
    "        # 取emb的cos和sin,保存\n",
    "        self.register_buffer(\"cos_cached\", emb.cos().to(dtype), persistent=False)\n",
    "        self.register_buffer(\"sin_cached\", emb.sin().to(dtype), persistent=False)\n",
    "\n",
    "    def forward(self, x, seq_len=None):\n",
    "        # 这里的x是split head并transpose后的输入\n",
    "        # x: [bs, num_attention_heads, seq_len, head_size]\n",
    "\n",
    "        # 如果输入的seq_len大于之前缓存的最大长度,重新计算\n",
    "        if seq_len > self.max_seq_len_cached:\n",
    "            self._set_cos_sin_cache(seq_len=seq_len, device=x.device, dtype=x.dtype)\n",
    "\n",
    "        # 取前seq_len个位置的cos和sin\n",
    "        return (\n",
    "            self.cos_cached[:seq_len].to(dtype=x.dtype),\n",
    "            self.sin_cached[:seq_len].to(dtype=x.dtype),\n",
    "        )\n",
    "\n",
    "\n",
    "def rotate_half(x):\n",
    "    \"\"\"Rotates half the hidden dims of the input.\"\"\"\n",
    "    # 因为线性层是无序的,不依赖维度顺序信息,并不一定要求按照维度顺序一正一负两两组合对词向量进行取负数\n",
    "    # [q_0, q_1, ..., q_{d/2-1}, q_{d/2}, q_{d/2+1}, ..., q_{d-1}] ->\n",
    "    # [-q_{d/2}, -q_{d/2+1}, ..., -q_{d-1}, q_0, q_1, ..., q_{d/2-1}]\n",
    "    x1 = x[..., : x.shape[-1] // 2]\n",
    "    x2 = x[..., x.shape[-1] // 2 :]\n",
    "    return torch.cat((-x2, x1), dim=-1)\n",
    "\n",
    "\n",
    "def apply_rotary_pos_emb(q, k, cos, sin, position_ids, unsqueeze_dim=1):\n",
    "    \"\"\"Applies Rotary Position Embedding to the query and key tensors.\n",
    "\n",
    "    Args:\n",
    "        q (`torch.Tensor`): The query tensor.\n",
    "        k (`torch.Tensor`): The key tensor.\n",
    "        cos (`torch.Tensor`): The cosine part of the rotary embedding.\n",
    "        sin (`torch.Tensor`): The sine part of the rotary embedding.\n",
    "        position_ids (`torch.Tensor`):\n",
    "            The position indices of the tokens corresponding to the query and key tensors. For example, this can be\n",
    "            used to pass offsetted position ids when working with a KV-cache.\n",
    "        unsqueeze_dim (`int`, *optional*, defaults to 1):\n",
    "            The 'unsqueeze_dim' argument specifies the dimension along which to unsqueeze cos[position_ids] and\n",
    "            sin[position_ids] so that they can be properly broadcasted to the dimensions of q and k. For example, note\n",
    "            that cos[position_ids] and sin[position_ids] have the shape [batch_size, seq_len, head_dim]. Then, if q and\n",
    "            k have the shape [batch_size, heads, seq_len, head_dim], then setting unsqueeze_dim=1 makes\n",
    "            cos[position_ids] and sin[position_ids] broadcastable to the shapes of q and k. Similarly, if q and k have\n",
    "            the shape [batch_size, seq_len, heads, head_dim], then set unsqueeze_dim=2.\n",
    "    Returns:\n",
    "        `tuple(torch.Tensor)` comprising of the query and key tensors rotated using the Rotary Position Embedding.\n",
    "    \"\"\"\n",
    "    # 按照position_ids取出对应位置的cos和sin,这样实现便于KV-cache机制中仅对新增的位置进行RoPE\n",
    "    # unsqueeze_dim是head所在的维度,使cos和sin就能广播每个head\n",
    "    cos = cos[position_ids].unsqueeze(unsqueeze_dim)\n",
    "    sin = sin[position_ids].unsqueeze(unsqueeze_dim)\n",
    "    # 执行RoPE编码,具体原理与公式见本项目中的RoPE.ipynb\n",
    "    q_embed = (q * cos) + (rotate_half(q) * sin)\n",
    "    k_embed = (k * cos) + (rotate_half(k) * sin)\n",
    "    return q_embed, k_embed"
   ],
   "metadata": {
    "collapsed": false,
    "ExecuteTime": {
     "end_time": "2024-05-12T05:05:55.339503600Z",
     "start_time": "2024-05-12T05:05:55.282412900Z"
    }
   },
   "id": "6bef00c8ae45a73a",
   "execution_count": 32
  },
  {
   "cell_type": "markdown",
   "source": [
    "## Meta版RoPE与Hugging Face版RoPE的权重转换\n",
    "显然,对于相同的词向量输入,Meta版RoPE的计算结果与Hugging Face版RoPE的计算结果是不同的\n",
    "所有,在Meta版llama的权重转Hugging Face版权重的[脚本](https://github.com/huggingface/transformers/blob/main/src/transformers/models/llama/convert_llama_weights_to_hf.py)中,有一个转换函数permute\n",
    "该函数作用于q_proj和k_proj的权重矩阵,效果等价于将矩阵行的顺序进行以下转换:[0, 1, 2, 3, ..., d-1] -> [0, 2, 4 , ..., d-2, 1, 3, 5, ..., d-1]\n",
    "代入Hugging Face版RoPE的计算公式,即:\n",
    "$$\n",
    "\\begin{equation}\n",
    "\\begin{pmatrix}\n",
    "q_0 \\\\ \n",
    "q_2 \\\\ \n",
    "\\vdots \\\\ \n",
    "q_{d-2} \\\\ \n",
    "q_1 \\\\ \n",
    "q_3 \\\\\n",
    "\\vdots \\\\\n",
    "q_{d-1} \\\\ \n",
    "\\end{pmatrix}\n",
    "\\otimes\n",
    "\\begin{pmatrix}\n",
    "\\cos m\\theta_0 \\\\ \n",
    "\\cos m\\theta_1 \\\\ \n",
    "\\vdots \\\\ \n",
    "\\cos m\\theta_{d/2-1} \\\\ \n",
    "\\cos m\\theta_0 \\\\ \n",
    "\\cos m\\theta_1 \\\\ \n",
    "\\vdots \\\\ \n",
    "\\cos m\\theta_{d/2-1} \\\\ \n",
    "\\end{pmatrix} +\n",
    "\\begin{pmatrix} \n",
    "-q_1 \\\\ \n",
    "-q_3 \\\\\n",
    "\\vdots \\\\\n",
    "-q_{d-1} \\\\ \n",
    "q_0 \\\\ \n",
    "q_2 \\\\ \n",
    "\\vdots \\\\ \n",
    "q_{d-2} \\\\ \n",
    "\\end{pmatrix}\n",
    "\\otimes\n",
    "\\begin{pmatrix}\n",
    "\\sin m\\theta_0 \\\\ \n",
    "\\sin m\\theta_1 \\\\ \n",
    "\\vdots \\\\ \n",
    "\\sin m\\theta_{d/2-1} \\\\ \n",
    "\\sin m\\theta_0 \\\\ \n",
    "\\sin m\\theta_1 \\\\ \n",
    "\\vdots \\\\ \n",
    "\\sin m\\theta_{d/2-1} \\\\ \n",
    "\\end{pmatrix}\n",
    "\\end{equation}\n",
    "$$\n",
    "虽然得到的$\\widetilde{q} 或 \\widetilde{k} $的维度顺序不同,但是$\\widetilde{q_i} 或 \\widetilde{k_j} $之前的顺序对应关系依然相同,两种实现方法得到的$\\widetilde{q} 或 \\widetilde{k} $的点积结果$\\widetilde{q} \\cdot \\widetilde{k} $是相同的\n",
    "即两种实现方法在$Q \\cdot K^T$后得到的attention score矩阵是相同的\n",
    "举例:向量$[1,1,2,2] \\cdot [3,3,4,4]$的结果是$1*3+1*3+2*4+2*4=18$,与$[1,2,1,2] \\cdot [3,4,3,4]$的结果是$1*3+2*4+1*3+2*4=18$是相同的"
   ],
   "metadata": {
    "collapsed": false
   },
   "id": "c477b84260a81551"
  },
  {
   "cell_type": "code",
   "outputs": [
    {
     "name": "stdout",
     "output_type": "stream",
     "text": [
      "tensor([[ 8.7858e-03,  1.2622e+00,  7.9208e-01,  ...,  2.1787e+00,\n",
      "         -4.7091e-01,  6.1270e-01],\n",
      "        [ 2.3271e+00,  6.0053e-01,  9.8219e-01,  ..., -9.8221e-01,\n",
      "         -1.0555e+00,  1.3834e+00],\n",
      "        [ 2.1603e+00,  3.7094e-01,  6.7353e-01,  ..., -2.6669e+00,\n",
      "          1.6770e-03, -1.5602e-01],\n",
      "        [ 1.3765e+00, -6.5805e-02,  8.8251e-01,  ..., -1.0164e+00,\n",
      "          3.6826e-01,  6.7291e-01],\n",
      "        [ 1.2309e+00,  1.5526e+00,  8.6718e-01,  ..., -8.2866e-01,\n",
      "          7.7822e-01, -7.8618e-01]])\n"
     ]
    },
    {
     "data": {
      "text/plain": "tensor([[ 8.7858e-03,  1.2622e+00,  7.9208e-01,  ...,  2.1787e+00,\n         -4.7091e-01,  6.1270e-01],\n        [ 2.3271e+00,  6.0053e-01,  9.8219e-01,  ..., -9.8221e-01,\n         -1.0555e+00,  1.3834e+00],\n        [ 2.1603e+00,  3.7094e-01,  6.7353e-01,  ..., -2.6669e+00,\n          1.6770e-03, -1.5602e-01],\n        ...,\n        [ 6.8207e-01,  5.9947e-03, -1.5639e-01,  ..., -4.6156e-01,\n         -4.5299e-01,  7.4805e-01],\n        [ 5.1888e-01,  1.1555e+00, -4.4710e-01,  ..., -1.8791e+00,\n         -1.0420e+00,  2.8049e-01],\n        [ 3.6307e-01, -1.3598e+00,  1.0830e+00,  ..., -6.5844e-01,\n         -5.9496e-01,  4.9553e-01]])"
     },
     "execution_count": 33,
     "metadata": {},
     "output_type": "execute_result"
    }
   ],
   "source": [
    "# permute for sliced rotary\n",
    "def permute(w, n_heads, dim1, dim2):\n",
    "    return w.view(n_heads, dim1 // n_heads // 2, 2, dim2).transpose(1, 2).reshape(dim1, dim2)\n",
    "import torch\n",
    "\n",
    "test_tensor = torch.randn(512, 512)\n",
    "print(test_tensor[0:10:2])\n",
    "n_heads = 8\n",
    "dim = 512\n",
    "permute(test_tensor, n_heads, dim, dim)"
   ],
   "metadata": {
    "collapsed": false,
    "ExecuteTime": {
     "end_time": "2024-05-12T05:05:55.406962100Z",
     "start_time": "2024-05-12T05:05:55.341502400Z"
    }
   },
   "id": "a62add1ef886c07c",
   "execution_count": 33
  },
  {
   "cell_type": "markdown",
   "source": [
    "## RoPE的远程($m-n$)衰减性\n",
    "经过RoPE处理后的词向量$\\widetilde{q}$和$\\widetilde{k}$的点积结果小于等于$\\frac{1}{d/2}\\sum\\limits_{j=1}^{d/2} |S_j|$\n",
    "其中:\n",
    "$$\n",
    "\\begin{split}\n",
    "&S_j=\\sum_{i=0}^{j-1}\\exp(i(m-n)\\theta_i)\\\\\n",
    "&\\theta_i=10000^{-2i/d}\n",
    "\\end{split}\n",
    "$$\n",
    "结论是该点积结果只与二者的相对位置$m-n$有关,且随着$m-n$的增大而迅速衰减。"
   ],
   "metadata": {
    "collapsed": false
   },
   "id": "1467d3274b4fa6ff"
  },
  {
   "cell_type": "code",
   "outputs": [
    {
     "data": {
      "text/plain": "[<matplotlib.lines.Line2D at 0x1b286ec1bd0>]"
     },
     "execution_count": 34,
     "metadata": {},
     "output_type": "execute_result"
    },
    {
     "data": {
      "text/plain": "<Figure size 640x480 with 1 Axes>",
      "image/png": "[encoded data removed]"
     },
     "metadata": {},
     "output_type": "display_data"
    }
   ],
   "source": [
    "from matplotlib import pyplot as plt\n",
    "import numpy as np\n",
    "\n",
    "\n",
    "def s(m, d=128):\n",
    "    theta_i = lambda i: 10000 ** (-2 * i / d)\n",
    "    return np.sum([np.abs(np.sum(np.exp(1j * m * theta_i(np.arange(0, j))))) for j in range(0, d // 2)])\n",
    "\n",
    "d = 128\n",
    "xs = np.arange(256)\n",
    "ys = [s(x) / (d // 2) for x in xs]\n",
    "plt.plot(xs, ys)"
   ],
   "metadata": {
    "collapsed": false,
    "ExecuteTime": {
     "end_time": "2024-05-12T05:05:55.941492600Z",
     "start_time": "2024-05-12T05:05:55.408962900Z"
    }
   },
   "id": "affafed3c5fb232b",
   "execution_count": 34
  },
  {
   "cell_type": "markdown",
   "source": [
    "## 扩展:Transformer中的SinPositionEncoding的复数与极坐标实现\n",
    "$$\n",
    "\\begin{split}\n",
    "PE(t,2i)&=\\sin\\left(\\frac{t}{10000^{\\frac{2i}{d_{model}}}}\\right)\\\\\n",
    "PE(t,2i+1)&=\\cos\\left(\\frac{t}{10000^{\\frac{2i}{d_{model}}}}\\right)\\\\\n",
    "\\end{split}\n",
    "$$"
   ],
   "metadata": {
    "collapsed": false
   },
   "id": "d6ce343452779ef6"
  },
  {
   "cell_type": "code",
   "outputs": [
    {
     "name": "stdout",
     "output_type": "stream",
     "text": [
      "tensor([[ 0.0000,  1.0000,  0.0000,  1.0000,  0.0000,  1.0000],\n",
      "        [ 0.8415,  0.5403,  0.0464,  0.9989,  0.0022,  1.0000],\n",
      "        [ 0.9093, -0.4161,  0.0927,  0.9957,  0.0043,  1.0000],\n",
      "        [ 0.1411, -0.9900,  0.1388,  0.9903,  0.0065,  1.0000],\n",
      "        [-0.7568, -0.6536,  0.1846,  0.9828,  0.0086,  1.0000],\n",
      "        [-0.9589,  0.2837,  0.2300,  0.9732,  0.0108,  0.9999],\n",
      "        [-0.2794,  0.9602,  0.2749,  0.9615,  0.0129,  0.9999],\n",
      "        [ 0.6570,  0.7539,  0.3192,  0.9477,  0.0151,  0.9999],\n",
      "        [ 0.9894, -0.1455,  0.3629,  0.9318,  0.0172,  0.9999],\n",
      "        [ 0.4121, -0.9111,  0.4057,  0.9140,  0.0194,  0.9998]])\n"
     ]
    }
   ],
   "source": [
    "import torch\n",
    "from torch import nn\n",
    "\n",
    "class SinPositionEncoding(nn.Module):\n",
    "    def __init__(self, max_sequence_length, d_model, base=10000):\n",
    "        super().__init__()\n",
    "        self.max_sequence_length = max_sequence_length\n",
    "        self.d_model = d_model\n",
    "        self.base = base\n",
    "        self.precompute_freqs_cis()\n",
    "    \n",
    "    def precompute_freqs_cis(self):\n",
    "        # i是词向量中每个维度的位置下标\n",
    "        # 计算公式中的 1/(10000^(2i/d_model))\n",
    "        # 得到一个(d_model/2,)维的向量\n",
    "        freqs = 1.0 / (self.base ** (torch.arange(0, self.d_model, 2)[: (self.d_model // 2)].float() / self.d_model))\n",
    "        # 初始化一个tensor [0, 1, 2, 3, ...],(max_sequence_length,)维\n",
    "        t = torch.arange(self.max_sequence_length, device=freqs.device, dtype=torch.float32)\n",
    "        # (max_sequence_length,) X (d_model/2,) -> (max_sequence_length, d_model/2)\n",
    "        # 新的freqs第0行是freqs*0,第1行是freqs*1,第2行是freqs*2,...\n",
    "        freqs = torch.outer(t, freqs).float()\n",
    "        # 通过复平面极坐标计算sin和cos\n",
    "        # 通过polar函数,将长度为1的向量逆时针旋转freqs度\n",
    "        # freqs_cis的shape是(max_sequence_length, d_model/2)\n",
    "        # 每个元素是一个复数,实部是cos,虚部是sin\n",
    "        freqs_cis = torch.polar(torch.ones_like(freqs), freqs)\n",
    "        # 将复数转换为实部和虚部,cos_sin的shape是(max_sequence_length, d_model/2, 2)\n",
    "        # 第三个维度先是cos,再是sin\n",
    "        cos_sin = torch.view_as_real(freqs_cis)\n",
    "        # 将cos_sin的第三个维度翻转,变成先sin, 再是cos\n",
    "        sin_cos = torch.flip(cos_sin, dims=(2, ))\n",
    "        # 将sin_cos的维度展平,变成(max_sequence_length, d_model)的形状\n",
    "        pe = sin_cos.flatten(start_dim=1, end_dim=2)\n",
    "        # print(freqs_cis)\n",
    "        # 如果一个参数不参与梯度下降,但又希望保存model的时候将其保存下来\n",
    "        # 这个时候就可以用register_buffer\n",
    "        self.register_buffer(\"pe\", pe)  \n",
    "    \n",
    "    def forward(self):\n",
    "        print(self.pe)\n",
    "    \n",
    "\n",
    "spe = SinPositionEncoding(max_sequence_length=10, d_model=6)\n",
    "spe()"
   ],
   "metadata": {
    "collapsed": false,
    "ExecuteTime": {
     "end_time": "2024-05-12T05:05:55.941492600Z",
     "start_time": "2024-05-12T05:05:55.926191200Z"
    }
   },
   "id": "df8f9ee21b6e2738",
   "execution_count": 35
  }
 ],
 "metadata": {
  "kernelspec": {
   "display_name": "Python 3",
   "language": "python",
   "name": "python3"
  },
  "language_info": {
   "codemirror_mode": {
    "name": "ipython",
    "version": 2
   },
   "file_extension": ".py",
   "mimetype": "text/x-python",
   "name": "python",
   "nbconvert_exporter": "python",
   "pygments_lexer": "ipython2",
   "version": "2.7.6"
  }
 },
 "nbformat": 4,
 "nbformat_minor": 5
}
